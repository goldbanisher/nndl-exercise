{
 "cells": [
  {
   "cell_type": "markdown",
   "metadata": {},
   "source": [
    "## 准备数据"
   ]
  },
  {
   "cell_type": "code",
   "execution_count": 97,
   "metadata": {},
   "outputs": [],
   "source": [
    "import os\n",
    "import numpy as np\n",
    "import tensorflow as tf\n",
    "from tensorflow import keras\n",
    "from tensorflow.keras import layers, optimizers, datasets\n",
    "\n",
    "os.environ['TF_CPP_MIN_LOG_LEVEL'] = '2'  # or any {'0', '1', '2'}\n",
    "\n",
    "def mnist_dataset():\n",
    "    (x, y), (x_test, y_test) = datasets.mnist.load_data()\n",
    "    #normalize\n",
    "    x = x/255.0\n",
    "    x_test = x_test/255.0\n",
    "    \n",
    "    return (x, y), (x_test, y_test)"
   ]
  },
  {
   "cell_type": "code",
   "execution_count": 98,
   "metadata": {},
   "outputs": [
    {
     "name": "stdout",
     "output_type": "stream",
     "text": [
      "[(1, 'a'), (2, 'b'), (3, 'c'), (4, 'd')]\n",
      "(60000, 28, 28)\n"
     ]
    }
   ],
   "source": [
    "print(list(zip([1, 2, 3, 4], ['a', 'b', 'c', 'd'])))\n",
    "(x, y), (x_test, y_test) = datasets.mnist.load_data()\n",
    "print(x.shape)"
   ]
  },
  {
   "cell_type": "markdown",
   "metadata": {},
   "source": [
    "## 建立模型"
   ]
  },
  {
   "cell_type": "code",
   "execution_count": 99,
   "metadata": {},
   "outputs": [],
   "source": [
    "class myModel:\n",
    "    def __init__(self):\n",
    "        ####################\n",
    "        '''声明模型对应的参数'''\n",
    "        ####################\n",
    "        self.W1 = tf.Variable(shape=[28*28, 150], dtype=tf.float32,initial_value=tf.random.uniform(shape=[28*28, 150],minval=-0.1, maxval=0.1))\n",
    "        self.b1 = tf.Variable(shape=[150], dtype=tf.float32, initial_value=tf.zeros(150))\n",
    "        self.W2 = tf.Variable(shape=[150, 15], dtype=tf.float32,initial_value=tf.random.uniform(shape=[150, 15],minval=-0.1, maxval=0.1))\n",
    "        self.b2 = tf.Variable(shape=[15], dtype=tf.float32, initial_value=tf.zeros(15))\n",
    "    def __call__(self, x):\n",
    "        ####################\n",
    "        '''实现模型函数体，返回未归一化的logits'''\n",
    "        ####################\n",
    "        x_flat = tf.reshape(x, shape=[-1, 28*28])\n",
    "        H_layer = tf.tanh(tf.matmul(x_flat, self.W1) + self.b1)\n",
    "        logits = tf.matmul(H_layer, self.W2) + self.b2\n",
    "        return logits\n",
    "        \n",
    "model = myModel()\n",
    "\n",
    "optimizer = optimizers.Adam()"
   ]
  },
  {
   "cell_type": "markdown",
   "metadata": {},
   "source": [
    "## 计算 loss"
   ]
  },
  {
   "cell_type": "code",
   "execution_count": 100,
   "metadata": {},
   "outputs": [],
   "source": [
    "@tf.function\n",
    "def compute_loss(logits, labels):\n",
    "    return tf.reduce_mean(\n",
    "        tf.nn.sparse_softmax_cross_entropy_with_logits(\n",
    "            logits=logits, labels=labels))\n",
    "\n",
    "@tf.function\n",
    "def compute_accuracy(logits, labels):\n",
    "    predictions = tf.argmax(logits, axis=1)\n",
    "    return tf.reduce_mean(tf.cast(tf.equal(predictions, labels), tf.float32))\n",
    "\n",
    "@tf.function\n",
    "def train_one_step(model, optimizer, x, y):\n",
    "    with tf.GradientTape() as tape:\n",
    "        logits = model(x)\n",
    "        loss = compute_loss(logits, y)\n",
    "\n",
    "    # compute gradient\n",
    "    trainable_vars = [model.W1, model.W2, model.b1, model.b2]\n",
    "    grads = tape.gradient(loss, trainable_vars)\n",
    "    for g, v in zip(grads, trainable_vars):\n",
    "        v.assign_sub(0.01*g)\n",
    "\n",
    "    accuracy = compute_accuracy(logits, y)\n",
    "\n",
    "    # loss and accuracy is scalar tensor\n",
    "    return loss, accuracy\n",
    "\n",
    "@tf.function\n",
    "def test(model, x, y):\n",
    "    logits = model(x)\n",
    "    loss = compute_loss(logits, y)\n",
    "    accuracy = compute_accuracy(logits, y)\n",
    "    return loss, accuracy"
   ]
  },
  {
   "cell_type": "markdown",
   "metadata": {},
   "source": [
    "## 实际训练"
   ]
  },
  {
   "cell_type": "code",
   "execution_count": 101,
   "metadata": {},
   "outputs": [
    {
     "name": "stdout",
     "output_type": "stream",
     "text": [
      "epoch 0 : loss 2.6772566 ; accuracy 0.061433334\n",
      "epoch 1 : loss 2.6623104 ; accuracy 0.069816664\n",
      "epoch 2 : loss 2.6476452 ; accuracy 0.07875\n",
      "epoch 3 : loss 2.6332512 ; accuracy 0.087516665\n",
      "epoch 4 : loss 2.6191182 ; accuracy 0.09685\n",
      "epoch 5 : loss 2.6052365 ; accuracy 0.106233336\n",
      "epoch 6 : loss 2.5915968 ; accuracy 0.116\n",
      "epoch 7 : loss 2.5781915 ; accuracy 0.12628333\n",
      "epoch 8 : loss 2.5650113 ; accuracy 0.13708334\n",
      "epoch 9 : loss 2.5520487 ; accuracy 0.14783333\n",
      "epoch 10 : loss 2.5392966 ; accuracy 0.16025\n",
      "epoch 11 : loss 2.526748 ; accuracy 0.17293334\n",
      "epoch 12 : loss 2.514396 ; accuracy 0.18495\n",
      "epoch 13 : loss 2.5022337 ; accuracy 0.1974\n",
      "epoch 14 : loss 2.490255 ; accuracy 0.20955\n",
      "epoch 15 : loss 2.4784553 ; accuracy 0.22141667\n",
      "epoch 16 : loss 2.4668276 ; accuracy 0.23281667\n",
      "epoch 17 : loss 2.4553668 ; accuracy 0.24513334\n",
      "epoch 18 : loss 2.444068 ; accuracy 0.25675\n",
      "epoch 19 : loss 2.432926 ; accuracy 0.26855\n",
      "epoch 20 : loss 2.421936 ; accuracy 0.28011668\n",
      "epoch 21 : loss 2.4110935 ; accuracy 0.29051667\n",
      "epoch 22 : loss 2.4003944 ; accuracy 0.3012\n",
      "epoch 23 : loss 2.3898346 ; accuracy 0.3123\n",
      "epoch 24 : loss 2.3794093 ; accuracy 0.32263333\n",
      "epoch 25 : loss 2.3691156 ; accuracy 0.33276665\n",
      "epoch 26 : loss 2.3589492 ; accuracy 0.34205\n",
      "epoch 27 : loss 2.3489068 ; accuracy 0.35193333\n",
      "epoch 28 : loss 2.3389847 ; accuracy 0.36061665\n",
      "epoch 29 : loss 2.3291798 ; accuracy 0.36996666\n",
      "epoch 30 : loss 2.3194885 ; accuracy 0.37771666\n",
      "epoch 31 : loss 2.3099089 ; accuracy 0.38553333\n",
      "epoch 32 : loss 2.3004367 ; accuracy 0.39326668\n",
      "epoch 33 : loss 2.2910697 ; accuracy 0.40071666\n",
      "epoch 34 : loss 2.2818053 ; accuracy 0.4078\n",
      "epoch 35 : loss 2.2726412 ; accuracy 0.41503334\n",
      "epoch 36 : loss 2.263574 ; accuracy 0.42176667\n",
      "epoch 37 : loss 2.2546015 ; accuracy 0.4285\n",
      "epoch 38 : loss 2.2457216 ; accuracy 0.43488333\n",
      "epoch 39 : loss 2.2369323 ; accuracy 0.44098333\n",
      "epoch 40 : loss 2.2282307 ; accuracy 0.44646665\n",
      "epoch 41 : loss 2.2196152 ; accuracy 0.45258334\n",
      "epoch 42 : loss 2.2110834 ; accuracy 0.45848334\n",
      "epoch 43 : loss 2.2026339 ; accuracy 0.46403334\n",
      "epoch 44 : loss 2.1942647 ; accuracy 0.4694\n",
      "epoch 45 : loss 2.1859734 ; accuracy 0.47431666\n",
      "epoch 46 : loss 2.1777587 ; accuracy 0.47973335\n",
      "epoch 47 : loss 2.1696188 ; accuracy 0.48463333\n",
      "epoch 48 : loss 2.161552 ; accuracy 0.48971668\n",
      "epoch 49 : loss 2.1535568 ; accuracy 0.49498335\n",
      "test loss 2.1316702 ; accuracy 0.515\n"
     ]
    }
   ],
   "source": [
    "train_data, test_data = mnist_dataset()\n",
    "for epoch in range(50):\n",
    "    loss, accuracy = train_one_step(model, optimizer, \n",
    "                                    tf.constant(train_data[0], dtype=tf.float32), \n",
    "                                    tf.constant(train_data[1], dtype=tf.int64))\n",
    "    print('epoch', epoch, ': loss', loss.numpy(), '; accuracy', accuracy.numpy())\n",
    "loss, accuracy = test(model, \n",
    "                      tf.constant(test_data[0], dtype=tf.float32), \n",
    "                      tf.constant(test_data[1], dtype=tf.int64))\n",
    "\n",
    "print('test loss', loss.numpy(), '; accuracy', accuracy.numpy())"
   ]
  }
 ],
 "metadata": {
  "kernelspec": {
   "display_name": "base",
   "language": "python",
   "name": "python3"
  },
  "language_info": {
   "codemirror_mode": {
    "name": "ipython",
    "version": 3
   },
   "file_extension": ".py",
   "mimetype": "text/x-python",
   "name": "python",
   "nbconvert_exporter": "python",
   "pygments_lexer": "ipython3",
   "version": "3.12.7"
  }
 },
 "nbformat": 4,
 "nbformat_minor": 2
}
